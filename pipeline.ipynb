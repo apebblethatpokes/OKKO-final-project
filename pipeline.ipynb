{
 "cells": [
  {
   "cell_type": "markdown",
   "metadata": {},
   "source": [
    "# 1. Modules and functions"
   ]
  },
  {
   "cell_type": "code",
   "execution_count": 27,
   "metadata": {},
   "outputs": [],
   "source": [
    "import ssl\n",
    "ssl._create_default_https_context = ssl._create_unverified_context\n",
    "\n",
    "import shap\n",
    "import numpy as np\n",
    "import pandas as pd\n",
    "import datetime as dt\n",
    "import matplotlib.pyplot as plt\n",
    "from itertools import islice, cycle, product\n",
    "\n",
    "from sklearn.utils import shuffle\n",
    "from sklearn.model_selection import train_test_split\n",
    "\n",
    "from lightfm.data import Dataset\n",
    "from lightfm import LightFM\n",
    "\n",
    "from catboost import CatBoostClassifier\n",
    "\n",
    "from tqdm import tqdm\n",
    "import warnings\n",
    "warnings.filterwarnings('ignore')\n",
    "\n",
    "pd.set_option('display.float_format', lambda x: '%.3f' % x)"
   ]
  },
  {
   "cell_type": "markdown",
   "metadata": {},
   "source": [
    "# 2. Main"
   ]
  },
  {
   "cell_type": "markdown",
   "metadata": {},
   "source": [
    "## 2.1 Load Data"
   ]
  },
  {
   "cell_type": "code",
   "execution_count": 30,
   "metadata": {},
   "outputs": [
    {
     "name": "stdout",
     "output_type": "stream",
     "text": [
      "1800000\n"
     ]
    },
    {
     "data": {
      "text/html": [
       "<div>\n",
       "<style scoped>\n",
       "    .dataframe tbody tr th:only-of-type {\n",
       "        vertical-align: middle;\n",
       "    }\n",
       "\n",
       "    .dataframe tbody tr th {\n",
       "        vertical-align: top;\n",
       "    }\n",
       "\n",
       "    .dataframe thead th {\n",
       "        text-align: right;\n",
       "    }\n",
       "</style>\n",
       "<table border=\"1\" class=\"dataframe\">\n",
       "  <thead>\n",
       "    <tr style=\"text-align: right;\">\n",
       "      <th></th>\n",
       "      <th>year</th>\n",
       "      <th>month</th>\n",
       "      <th>day</th>\n",
       "      <th>user_id</th>\n",
       "      <th>movie_id</th>\n",
       "      <th>watch_duration_minutes</th>\n",
       "    </tr>\n",
       "  </thead>\n",
       "  <tbody>\n",
       "    <tr>\n",
       "      <th>0</th>\n",
       "      <td>2022</td>\n",
       "      <td>10</td>\n",
       "      <td>1</td>\n",
       "      <td>58073</td>\n",
       "      <td>a6889772-f1f4-45bc-9663-85b46fc8499d</td>\n",
       "      <td>4.800</td>\n",
       "    </tr>\n",
       "    <tr>\n",
       "      <th>1</th>\n",
       "      <td>2022</td>\n",
       "      <td>10</td>\n",
       "      <td>1</td>\n",
       "      <td>63698</td>\n",
       "      <td>c829f262-ddf1-46b7-a896-a7efc205028c</td>\n",
       "      <td>15.000</td>\n",
       "    </tr>\n",
       "    <tr>\n",
       "      <th>2</th>\n",
       "      <td>2022</td>\n",
       "      <td>10</td>\n",
       "      <td>1</td>\n",
       "      <td>66655</td>\n",
       "      <td>91f9d892-a508-4962-91e9-abacd93e0830</td>\n",
       "      <td>51.917</td>\n",
       "    </tr>\n",
       "    <tr>\n",
       "      <th>3</th>\n",
       "      <td>2022</td>\n",
       "      <td>10</td>\n",
       "      <td>1</td>\n",
       "      <td>66655</td>\n",
       "      <td>58b805e1-a65c-49f4-b302-865cacaaed8a</td>\n",
       "      <td>22.317</td>\n",
       "    </tr>\n",
       "    <tr>\n",
       "      <th>4</th>\n",
       "      <td>2022</td>\n",
       "      <td>10</td>\n",
       "      <td>1</td>\n",
       "      <td>67981</td>\n",
       "      <td>dbc44c07-46e2-4fb0-b57c-8b5172421683</td>\n",
       "      <td>117.000</td>\n",
       "    </tr>\n",
       "  </tbody>\n",
       "</table>\n",
       "</div>"
      ],
      "text/plain": [
       "   year  month  day  user_id                              movie_id  \\\n",
       "0  2022     10    1    58073  a6889772-f1f4-45bc-9663-85b46fc8499d   \n",
       "1  2022     10    1    63698  c829f262-ddf1-46b7-a896-a7efc205028c   \n",
       "2  2022     10    1    66655  91f9d892-a508-4962-91e9-abacd93e0830   \n",
       "3  2022     10    1    66655  58b805e1-a65c-49f4-b302-865cacaaed8a   \n",
       "4  2022     10    1    67981  dbc44c07-46e2-4fb0-b57c-8b5172421683   \n",
       "\n",
       "   watch_duration_minutes  \n",
       "0                   4.800  \n",
       "1                  15.000  \n",
       "2                  51.917  \n",
       "3                  22.317  \n",
       "4                 117.000  "
      ]
     },
     "execution_count": 30,
     "metadata": {},
     "output_type": "execute_result"
    }
   ],
   "source": [
    "interactions = pd.read_parquet('interactions.parquet',engine='pyarrow')\n",
    "print(len(interactions))\n",
    "interactions.head(5)"
   ]
  },
  {
   "cell_type": "code",
   "execution_count": 9,
   "metadata": {},
   "outputs": [
    {
     "name": "stdout",
     "output_type": "stream",
     "text": [
      "226260\n"
     ]
    },
    {
     "data": {
      "text/html": [
       "<div>\n",
       "<style scoped>\n",
       "    .dataframe tbody tr th:only-of-type {\n",
       "        vertical-align: middle;\n",
       "    }\n",
       "\n",
       "    .dataframe tbody tr th {\n",
       "        vertical-align: top;\n",
       "    }\n",
       "\n",
       "    .dataframe thead th {\n",
       "        text-align: right;\n",
       "    }\n",
       "</style>\n",
       "<table border=\"1\" class=\"dataframe\">\n",
       "  <thead>\n",
       "    <tr style=\"text-align: right;\">\n",
       "      <th></th>\n",
       "      <th>movie_id</th>\n",
       "      <th>title</th>\n",
       "      <th>entity_type</th>\n",
       "      <th>genres</th>\n",
       "      <th>actors</th>\n",
       "      <th>director</th>\n",
       "      <th>country</th>\n",
       "      <th>release_world</th>\n",
       "      <th>age_rating</th>\n",
       "      <th>duration</th>\n",
       "    </tr>\n",
       "  </thead>\n",
       "  <tbody>\n",
       "    <tr>\n",
       "      <th>0</th>\n",
       "      <td>395a85a9-2200-4a29-a878-97753c471f79</td>\n",
       "      <td>Свиридовы</td>\n",
       "      <td>Серия</td>\n",
       "      <td>[\"Мелодрамы\"]</td>\n",
       "      <td>[\"Андрей Мерзликин\",\"Алексей Горбунов\",\"Елена ...</td>\n",
       "      <td>[\"Эльдар Салаватов\"]</td>\n",
       "      <td>[\"Россия\"]</td>\n",
       "      <td>2013-12-15</td>\n",
       "      <td>16.000</td>\n",
       "      <td>49.000</td>\n",
       "    </tr>\n",
       "    <tr>\n",
       "      <th>1</th>\n",
       "      <td>6fd5f7b5-8278-4d9a-b03a-54a8bf0bc7c8</td>\n",
       "      <td>Охотники за головами</td>\n",
       "      <td>Серия</td>\n",
       "      <td>[\"Детективы\",\"Драмы\"]</td>\n",
       "      <td>[\"Филипп Янковский\",\"Елизавета Боярская\",\"Конс...</td>\n",
       "      <td>[\"Иван Шурховецкий\"]</td>\n",
       "      <td>[\"Россия\"]</td>\n",
       "      <td>2014-03-03</td>\n",
       "      <td>16.000</td>\n",
       "      <td>48.000</td>\n",
       "    </tr>\n",
       "    <tr>\n",
       "      <th>2</th>\n",
       "      <td>b239c99e-d1ea-4c01-b83f-6b5469a6b70a</td>\n",
       "      <td>Молодое поколение</td>\n",
       "      <td>Серия</td>\n",
       "      <td>[\"Комедии\",\"Мелодрамы\"]</td>\n",
       "      <td>[\"Юн Пак\",\"Пак Ын-бин\",\"Хан Е-ри\",\"Ким Мин-сок...</td>\n",
       "      <td>[\"Ким Сан-хо\",\"Ли Тхэ-гон\"]</td>\n",
       "      <td>[\"Корея Южная\"]</td>\n",
       "      <td>2016-07-22</td>\n",
       "      <td>16.000</td>\n",
       "      <td>65.000</td>\n",
       "    </tr>\n",
       "    <tr>\n",
       "      <th>3</th>\n",
       "      <td>9dc02ab1-7bd2-45c2-9b8c-ae29e9813ccf</td>\n",
       "      <td>Художницы</td>\n",
       "      <td>Серия</td>\n",
       "      <td>[\"Документальное\"]</td>\n",
       "      <td>[\"Катарина Лопаткина\"]</td>\n",
       "      <td>[\"Школа Masters\"]</td>\n",
       "      <td>[\"Россия\"]</td>\n",
       "      <td>2019-02-01</td>\n",
       "      <td>18.000</td>\n",
       "      <td>27.000</td>\n",
       "    </tr>\n",
       "    <tr>\n",
       "      <th>4</th>\n",
       "      <td>54b3b5fe-7d2a-47ba-9a1d-4dc3a3a8ff96</td>\n",
       "      <td>Веселая Астрология</td>\n",
       "      <td>Серия</td>\n",
       "      <td>[\"Мультфильмы\"]</td>\n",
       "      <td>[\"Стивен Боунс\",\"Хашир Хайзал Хаилми\",\"Логандр...</td>\n",
       "      <td>[\"Кен Фунг\"]</td>\n",
       "      <td>[\"Малайзия\"]</td>\n",
       "      <td>2017-10-01</td>\n",
       "      <td>6.000</td>\n",
       "      <td>3.000</td>\n",
       "    </tr>\n",
       "  </tbody>\n",
       "</table>\n",
       "</div>"
      ],
      "text/plain": [
       "                               movie_id                 title entity_type  \\\n",
       "0  395a85a9-2200-4a29-a878-97753c471f79             Свиридовы       Серия   \n",
       "1  6fd5f7b5-8278-4d9a-b03a-54a8bf0bc7c8  Охотники за головами       Серия   \n",
       "2  b239c99e-d1ea-4c01-b83f-6b5469a6b70a     Молодое поколение       Серия   \n",
       "3  9dc02ab1-7bd2-45c2-9b8c-ae29e9813ccf             Художницы       Серия   \n",
       "4  54b3b5fe-7d2a-47ba-9a1d-4dc3a3a8ff96    Веселая Астрология       Серия   \n",
       "\n",
       "                    genres                                             actors  \\\n",
       "0            [\"Мелодрамы\"]  [\"Андрей Мерзликин\",\"Алексей Горбунов\",\"Елена ...   \n",
       "1    [\"Детективы\",\"Драмы\"]  [\"Филипп Янковский\",\"Елизавета Боярская\",\"Конс...   \n",
       "2  [\"Комедии\",\"Мелодрамы\"]  [\"Юн Пак\",\"Пак Ын-бин\",\"Хан Е-ри\",\"Ким Мин-сок...   \n",
       "3       [\"Документальное\"]                             [\"Катарина Лопаткина\"]   \n",
       "4          [\"Мультфильмы\"]  [\"Стивен Боунс\",\"Хашир Хайзал Хаилми\",\"Логандр...   \n",
       "\n",
       "                      director          country release_world  age_rating  \\\n",
       "0         [\"Эльдар Салаватов\"]       [\"Россия\"]    2013-12-15      16.000   \n",
       "1         [\"Иван Шурховецкий\"]       [\"Россия\"]    2014-03-03      16.000   \n",
       "2  [\"Ким Сан-хо\",\"Ли Тхэ-гон\"]  [\"Корея Южная\"]    2016-07-22      16.000   \n",
       "3            [\"Школа Masters\"]       [\"Россия\"]    2019-02-01      18.000   \n",
       "4                 [\"Кен Фунг\"]     [\"Малайзия\"]    2017-10-01       6.000   \n",
       "\n",
       "   duration  \n",
       "0    49.000  \n",
       "1    48.000  \n",
       "2    65.000  \n",
       "3    27.000  \n",
       "4     3.000  "
      ]
     },
     "execution_count": 9,
     "metadata": {},
     "output_type": "execute_result"
    }
   ],
   "source": [
    "movies_md = pd.read_parquet('movies_metdata.parquet',engine='pyarrow')\n",
    "print(len(movies_md))\n",
    "movies_md.head(5)"
   ]
  },
  {
   "attachments": {},
   "cell_type": "markdown",
   "metadata": {},
   "source": [
    "## 2.2 Train/test split"
   ]
  },
  {
   "cell_type": "markdown",
   "metadata": {},
   "source": [
    "## 2.3 Data preparation using LightFM Dataset (first-level model)"
   ]
  },
  {
   "cell_type": "code",
   "execution_count": 10,
   "metadata": {},
   "outputs": [],
   "source": [
    "# minimal_duration = 300\n",
    "# good_movies = interactions.groupby('movie_id')['watch_duration_minutes'].sum().reset_index(drop=False)\n",
    "# good_movies"
   ]
  },
  {
   "cell_type": "code",
   "execution_count": 15,
   "metadata": {},
   "outputs": [
    {
     "name": "stdout",
     "output_type": "stream",
     "text": [
      "Number of films in initial dataset: 1800000 \n",
      "Number of filmns in filtered dataset: 1782240\n",
      "Number of dropped films: 17760\n"
     ]
    }
   ],
   "source": [
    "interactions_filtered = interactions.loc[interactions['movie_id'].isin(movies_md['movie_id'])]\n",
    "print(f'''Number of films in initial dataset: {len(interactions)} \n",
    "Number of filmns in filtered dataset: {len(interactions_filtered)}\n",
    "Number of dropped films: {len(interactions) - len(interactions_filtered)}''')"
   ]
  },
  {
   "cell_type": "code",
   "execution_count": 16,
   "metadata": {},
   "outputs": [
    {
     "name": "stdout",
     "output_type": "stream",
     "text": [
      "Number of unique users: 127060\n"
     ]
    }
   ],
   "source": [
    "users = interactions[['user_id']].drop_duplicates().reset_index(drop = True)\n",
    "print(f'Number of unique users: {len(users)}')"
   ]
  },
  {
   "cell_type": "code",
   "execution_count": 17,
   "metadata": {},
   "outputs": [
    {
     "data": {
      "text/html": [
       "<div>\n",
       "<style scoped>\n",
       "    .dataframe tbody tr th:only-of-type {\n",
       "        vertical-align: middle;\n",
       "    }\n",
       "\n",
       "    .dataframe tbody tr th {\n",
       "        vertical-align: top;\n",
       "    }\n",
       "\n",
       "    .dataframe thead th {\n",
       "        text-align: right;\n",
       "    }\n",
       "</style>\n",
       "<table border=\"1\" class=\"dataframe\">\n",
       "  <thead>\n",
       "    <tr style=\"text-align: right;\">\n",
       "      <th></th>\n",
       "      <th>year</th>\n",
       "      <th>month</th>\n",
       "      <th>day</th>\n",
       "      <th>user_id</th>\n",
       "      <th>movie_id</th>\n",
       "      <th>watch_duration_minutes</th>\n",
       "      <th>duration</th>\n",
       "      <th>watch_percentage</th>\n",
       "    </tr>\n",
       "  </thead>\n",
       "  <tbody>\n",
       "    <tr>\n",
       "      <th>1</th>\n",
       "      <td>2022</td>\n",
       "      <td>10</td>\n",
       "      <td>1</td>\n",
       "      <td>63698</td>\n",
       "      <td>c829f262-ddf1-46b7-a896-a7efc205028c</td>\n",
       "      <td>15.000</td>\n",
       "      <td>144.000</td>\n",
       "      <td>0.104</td>\n",
       "    </tr>\n",
       "    <tr>\n",
       "      <th>4</th>\n",
       "      <td>2022</td>\n",
       "      <td>10</td>\n",
       "      <td>1</td>\n",
       "      <td>67981</td>\n",
       "      <td>dbc44c07-46e2-4fb0-b57c-8b5172421683</td>\n",
       "      <td>117.000</td>\n",
       "      <td>107.000</td>\n",
       "      <td>1.093</td>\n",
       "    </tr>\n",
       "    <tr>\n",
       "      <th>5</th>\n",
       "      <td>2022</td>\n",
       "      <td>10</td>\n",
       "      <td>1</td>\n",
       "      <td>68523</td>\n",
       "      <td>7822a15d-0856-4f97-b7fc-6041584aa40b</td>\n",
       "      <td>109.500</td>\n",
       "      <td>121.000</td>\n",
       "      <td>0.905</td>\n",
       "    </tr>\n",
       "    <tr>\n",
       "      <th>6</th>\n",
       "      <td>2022</td>\n",
       "      <td>10</td>\n",
       "      <td>1</td>\n",
       "      <td>68680</td>\n",
       "      <td>595c19b8-a22f-4beb-ab9f-5431fd3929ea</td>\n",
       "      <td>7.000</td>\n",
       "      <td>131.000</td>\n",
       "      <td>0.053</td>\n",
       "    </tr>\n",
       "    <tr>\n",
       "      <th>7</th>\n",
       "      <td>2022</td>\n",
       "      <td>10</td>\n",
       "      <td>1</td>\n",
       "      <td>68680</td>\n",
       "      <td>9992a169-0f6f-42ba-aebc-815d2fa689e0</td>\n",
       "      <td>114.000</td>\n",
       "      <td>100.000</td>\n",
       "      <td>1.140</td>\n",
       "    </tr>\n",
       "  </tbody>\n",
       "</table>\n",
       "</div>"
      ],
      "text/plain": [
       "   year  month  day  user_id                              movie_id  \\\n",
       "1  2022     10    1    63698  c829f262-ddf1-46b7-a896-a7efc205028c   \n",
       "4  2022     10    1    67981  dbc44c07-46e2-4fb0-b57c-8b5172421683   \n",
       "5  2022     10    1    68523  7822a15d-0856-4f97-b7fc-6041584aa40b   \n",
       "6  2022     10    1    68680  595c19b8-a22f-4beb-ab9f-5431fd3929ea   \n",
       "7  2022     10    1    68680  9992a169-0f6f-42ba-aebc-815d2fa689e0   \n",
       "\n",
       "   watch_duration_minutes  duration  watch_percentage  \n",
       "1                  15.000   144.000             0.104  \n",
       "4                 117.000   107.000             1.093  \n",
       "5                 109.500   121.000             0.905  \n",
       "6                   7.000   131.000             0.053  \n",
       "7                 114.000   100.000             1.140  "
      ]
     },
     "execution_count": 17,
     "metadata": {},
     "output_type": "execute_result"
    }
   ],
   "source": [
    "item_name_mapper = dict(zip(movies_md['movie_id'], movies_md['title']))\n",
    "duration = movies_md[['movie_id','duration']]\n",
    "interactions = pd.merge(interactions_filtered,duration,how='left',on='movie_id')\n",
    "interactions = interactions.dropna()\n",
    "interactions['watch_percentage'] = interactions['watch_duration_minutes']/interactions['duration']\n",
    "interactions.head(5)"
   ]
  },
  {
   "cell_type": "code",
   "execution_count": 19,
   "metadata": {},
   "outputs": [],
   "source": [
    "def compute_popularity(\n",
    "    df: pd.DataFrame, \n",
    "    item_id: str, max_candidates: int) -> pd.DataFrame:\n",
    "    \n",
    "    \"\"\"\n",
    "    Сalculates mean rating to define popular titles\n",
    "    \"\"\"\n",
    "    \n",
    "    popular_titles = df.groupby(item_id).agg({'watch_percentage': sum}) \\\n",
    "                     .sort_values(['watch_percentage'], ascending=False).head(max_candidates).index.values\n",
    "\n",
    "    return popular_titles"
   ]
  },
  {
   "cell_type": "code",
   "execution_count": 20,
   "metadata": {},
   "outputs": [],
   "source": [
    "ITEM_COLUMN = 'movie_id'\n",
    "USER_COLUMN = 'user_id'\n",
    "base_recommendations = compute_popularity(interactions,ITEM_COLUMN,20)\n",
    "known_items = interactions_filtered.groupby(USER_COLUMN)[ITEM_COLUMN].apply(list).to_dict"
   ]
  },
  {
   "cell_type": "code",
   "execution_count": 22,
   "metadata": {},
   "outputs": [],
   "source": [
    "def fit(\n",
    "    data: pd.DataFrame,\n",
    "    item_col: str,\n",
    "    max_candidates: int = 20) -> pd.DataFrame:\n",
    "    \n",
    "    recommendations = compute_popularity(data, item_col, max_candidates)\n",
    "\n",
    "    return recommendations"
   ]
  },
  {
   "cell_type": "code",
   "execution_count": 23,
   "metadata": {},
   "outputs": [],
   "source": [
    "recommendations = fit(interactions,ITEM_COLUMN,20)"
   ]
  },
  {
   "cell_type": "code",
   "execution_count": 24,
   "metadata": {},
   "outputs": [],
   "source": [
    "def recommend(\n",
    "    users: pd.DataFrame,\n",
    "    recommendations: pd.DataFrame\n",
    "    ) -> pd.DataFrame:\n",
    "    \n",
    "    output = users.copy(deep = True)\n",
    "    recs = list(islice(cycle([recommendations]), len(users['user_id'])))\n",
    "    output['rekkos'] = recs\n",
    "\n",
    "    return output"
   ]
  },
  {
   "cell_type": "code",
   "execution_count": 28,
   "metadata": {},
   "outputs": [
    {
     "data": {
      "text/html": [
       "<div>\n",
       "<style scoped>\n",
       "    .dataframe tbody tr th:only-of-type {\n",
       "        vertical-align: middle;\n",
       "    }\n",
       "\n",
       "    .dataframe tbody tr th {\n",
       "        vertical-align: top;\n",
       "    }\n",
       "\n",
       "    .dataframe thead th {\n",
       "        text-align: right;\n",
       "    }\n",
       "</style>\n",
       "<table border=\"1\" class=\"dataframe\">\n",
       "  <thead>\n",
       "    <tr style=\"text-align: right;\">\n",
       "      <th></th>\n",
       "      <th>user_id</th>\n",
       "      <th>rekkos</th>\n",
       "    </tr>\n",
       "  </thead>\n",
       "  <tbody>\n",
       "    <tr>\n",
       "      <th>0</th>\n",
       "      <td>58073</td>\n",
       "      <td>[e088637d-967f-478b-8158-98b90aded146, 42f5cb3...</td>\n",
       "    </tr>\n",
       "    <tr>\n",
       "      <th>1</th>\n",
       "      <td>63698</td>\n",
       "      <td>[e088637d-967f-478b-8158-98b90aded146, 42f5cb3...</td>\n",
       "    </tr>\n",
       "    <tr>\n",
       "      <th>2</th>\n",
       "      <td>66655</td>\n",
       "      <td>[e088637d-967f-478b-8158-98b90aded146, 42f5cb3...</td>\n",
       "    </tr>\n",
       "    <tr>\n",
       "      <th>3</th>\n",
       "      <td>67981</td>\n",
       "      <td>[e088637d-967f-478b-8158-98b90aded146, 42f5cb3...</td>\n",
       "    </tr>\n",
       "    <tr>\n",
       "      <th>4</th>\n",
       "      <td>68523</td>\n",
       "      <td>[e088637d-967f-478b-8158-98b90aded146, 42f5cb3...</td>\n",
       "    </tr>\n",
       "  </tbody>\n",
       "</table>\n",
       "</div>"
      ],
      "text/plain": [
       "   user_id                                             rekkos\n",
       "0    58073  [e088637d-967f-478b-8158-98b90aded146, 42f5cb3...\n",
       "1    63698  [e088637d-967f-478b-8158-98b90aded146, 42f5cb3...\n",
       "2    66655  [e088637d-967f-478b-8158-98b90aded146, 42f5cb3...\n",
       "3    67981  [e088637d-967f-478b-8158-98b90aded146, 42f5cb3...\n",
       "4    68523  [e088637d-967f-478b-8158-98b90aded146, 42f5cb3..."
      ]
     },
     "execution_count": 28,
     "metadata": {},
     "output_type": "execute_result"
    }
   ],
   "source": [
    "recommend(users, recommendations).head(5)"
   ]
  },
  {
   "cell_type": "code",
   "execution_count": 29,
   "metadata": {},
   "outputs": [
    {
     "name": "stdout",
     "output_type": "stream",
     "text": [
      "Сердце Пармы\n",
      "Вышка\n",
      "Барбоскины Team\n",
      "Три тысячи лет желаний\n",
      "Гринч\n",
      "Три кота и море приключений\n",
      "Босс-молокосос\n",
      "Один дома\n",
      "Либерея: Охотники за сокровищами\n",
      "Пес-самурай и город кошек\n",
      "Щенячий патруль в кино\n",
      "Начать сначала\n",
      "Красная Шапочка\n",
      "Ирония судьбы в Голливуде\n",
      "Зверопой 2\n",
      "Любовники\n",
      "Холодное сердце\n",
      "Холодное сердце 2\n",
      "Гадкий я\n",
      "Один дома 2: Затерянный в Нью-Йорке\n"
     ]
    }
   ],
   "source": [
    "for i in base_recommendations:\n",
    "    print(item_name_mapper[i])"
   ]
  },
  {
   "cell_type": "code",
   "execution_count": null,
   "metadata": {},
   "outputs": [],
   "source": []
  },
  {
   "cell_type": "code",
   "execution_count": null,
   "metadata": {},
   "outputs": [],
   "source": []
  },
  {
   "cell_type": "code",
   "execution_count": null,
   "metadata": {},
   "outputs": [],
   "source": []
  },
  {
   "cell_type": "code",
   "execution_count": null,
   "metadata": {},
   "outputs": [],
   "source": []
  },
  {
   "cell_type": "code",
   "execution_count": null,
   "metadata": {},
   "outputs": [],
   "source": []
  }
 ],
 "metadata": {
  "kernelspec": {
   "display_name": "base",
   "language": "python",
   "name": "python3"
  },
  "language_info": {
   "codemirror_mode": {
    "name": "ipython",
    "version": 3
   },
   "file_extension": ".py",
   "mimetype": "text/x-python",
   "name": "python",
   "nbconvert_exporter": "python",
   "pygments_lexer": "ipython3",
   "version": "3.9.7"
  },
  "orig_nbformat": 4
 },
 "nbformat": 4,
 "nbformat_minor": 2
}
